{
 "cells": [
  {
   "cell_type": "code",
   "execution_count": 1,
   "metadata": {},
   "outputs": [],
   "source": [
    "import pandas as pd"
   ]
  },
  {
   "cell_type": "code",
   "execution_count": 2,
   "metadata": {
    "pycharm": {
     "name": "#%%\n"
    },
    "scrolled": true
   },
   "outputs": [
    {
     "name": "stderr",
     "output_type": "stream",
     "text": [
      "<ipython-input-2-2050d421ea6a>:1: ParserWarning: Falling back to the 'python' engine because the 'c' engine does not support regex separators (separators > 1 char and different from '\\s+' are interpreted as regex); you can avoid this warning by specifying engine='python'.\n",
      "  raw_data=pd.read_csv('./sample_cremad.csv',names=['emotion','mfcc','filename','sex'],delimiter=' ,')\n"
     ]
    }
   ],
   "source": [
    "raw_data=pd.read_csv('./sample_cremad.csv',names=['emotion','mfcc','filename','sex'],delimiter=' ,')"
   ]
  },
  {
   "cell_type": "code",
   "execution_count": 13,
   "metadata": {},
   "outputs": [
    {
     "name": "stdout",
     "output_type": "stream",
     "text": [
      "[0, 1, 2, 3, 4]\n"
     ]
    }
   ],
   "source": [
    "l=raw_data['emotion'].unique().tolist()\n",
    "l.pop(l.index(5))\n",
    "print(l)\n",
    "for u in l:\n",
    "    count=0\n",
    "    for i in raw_data.where(raw_data['emotion']==u).dropna().index:\n",
    "        if count>=50:\n",
    "            break\n",
    "        if raw_data.loc[i,:]['sex']==1:\n",
    "            raw_data.drop(index=[int(i)],inplace=True)\n",
    "            count+=1"
   ]
  },
  {
   "cell_type": "code",
   "execution_count": 15,
   "metadata": {},
   "outputs": [],
   "source": [
    "count=0\n",
    "for j in raw_data.where(raw_data['emotion']==5).dropna().index:\n",
    "    if count>=75:\n",
    "        break\n",
    "    if raw_data.loc[j,:]['sex']==1:\n",
    "        raw_data.drop(index=[int(j)],inplace=True)\n",
    "        count+=1"
   ]
  },
  {
   "cell_type": "code",
   "execution_count": 18,
   "metadata": {},
   "outputs": [
    {
     "data": {
      "text/html": [
       "<div>\n",
       "<style scoped>\n",
       "    .dataframe tbody tr th:only-of-type {\n",
       "        vertical-align: middle;\n",
       "    }\n",
       "\n",
       "    .dataframe tbody tr th {\n",
       "        vertical-align: top;\n",
       "    }\n",
       "\n",
       "    .dataframe thead th {\n",
       "        text-align: right;\n",
       "    }\n",
       "</style>\n",
       "<table border=\"1\" class=\"dataframe\">\n",
       "  <thead>\n",
       "    <tr style=\"text-align: right;\">\n",
       "      <th></th>\n",
       "      <th>emotion</th>\n",
       "      <th>mfcc</th>\n",
       "      <th>filename</th>\n",
       "      <th>sex</th>\n",
       "    </tr>\n",
       "  </thead>\n",
       "  <tbody>\n",
       "    <tr>\n",
       "      <th>82</th>\n",
       "      <td>0</td>\n",
       "      <td>[[-192.6655253198013, 157.86518270329742, -43....</td>\n",
       "      <td>1002_DFA_ANG_XX.wav</td>\n",
       "      <td>0</td>\n",
       "    </tr>\n",
       "    <tr>\n",
       "      <th>88</th>\n",
       "      <td>0</td>\n",
       "      <td>[[-451.7827759810083, 104.69157530404351, 2.76...</td>\n",
       "      <td>1002_IEO_ANG_HI.wav</td>\n",
       "      <td>0</td>\n",
       "    </tr>\n",
       "    <tr>\n",
       "      <th>89</th>\n",
       "      <td>0</td>\n",
       "      <td>[[-462.813864470538, 96.37117800785136, 44.085...</td>\n",
       "      <td>1002_IEO_ANG_LO.wav</td>\n",
       "      <td>0</td>\n",
       "    </tr>\n",
       "    <tr>\n",
       "      <th>90</th>\n",
       "      <td>0</td>\n",
       "      <td>[[-218.6795605094497, 50.06634565325093, -64.7...</td>\n",
       "      <td>1002_IEO_ANG_MD.wav</td>\n",
       "      <td>0</td>\n",
       "    </tr>\n",
       "    <tr>\n",
       "      <th>104</th>\n",
       "      <td>0</td>\n",
       "      <td>[[-110.06777223266891, 111.40287250731032, -45...</td>\n",
       "      <td>1002_IOM_ANG_XX.wav</td>\n",
       "      <td>0</td>\n",
       "    </tr>\n",
       "    <tr>\n",
       "      <th>...</th>\n",
       "      <td>...</td>\n",
       "      <td>...</td>\n",
       "      <td>...</td>\n",
       "      <td>...</td>\n",
       "    </tr>\n",
       "    <tr>\n",
       "      <th>7334</th>\n",
       "      <td>5</td>\n",
       "      <td>[[-406.98242193500886, 140.53084210904234, -11...</td>\n",
       "      <td>1090_MTI_NEU_XX.wav</td>\n",
       "      <td>1</td>\n",
       "    </tr>\n",
       "    <tr>\n",
       "      <th>7340</th>\n",
       "      <td>5</td>\n",
       "      <td>[[-231.59956389075035, 141.76097554193024, -26...</td>\n",
       "      <td>1090_TAI_NEU_XX.wav</td>\n",
       "      <td>1</td>\n",
       "    </tr>\n",
       "    <tr>\n",
       "      <th>7346</th>\n",
       "      <td>5</td>\n",
       "      <td>[[-444.72181595159094, 157.9639548791766, 1.19...</td>\n",
       "      <td>1090_TIE_NEU_XX.wav</td>\n",
       "      <td>1</td>\n",
       "    </tr>\n",
       "    <tr>\n",
       "      <th>7352</th>\n",
       "      <td>5</td>\n",
       "      <td>[[-529.5294425141092, 113.13303392490417, 55.3...</td>\n",
       "      <td>1090_TSI_NEU_XX.wav</td>\n",
       "      <td>1</td>\n",
       "    </tr>\n",
       "    <tr>\n",
       "      <th>7358</th>\n",
       "      <td>5</td>\n",
       "      <td>[[-505.0763358276477, 182.13265483777104, 45.1...</td>\n",
       "      <td>1090_WSI_NEU_XX.wav</td>\n",
       "      <td>1</td>\n",
       "    </tr>\n",
       "  </tbody>\n",
       "</table>\n",
       "<p>6000 rows × 4 columns</p>\n",
       "</div>"
      ],
      "text/plain": [
       "      emotion                                               mfcc  \\\n",
       "82          0  [[-192.6655253198013, 157.86518270329742, -43....   \n",
       "88          0  [[-451.7827759810083, 104.69157530404351, 2.76...   \n",
       "89          0  [[-462.813864470538, 96.37117800785136, 44.085...   \n",
       "90          0  [[-218.6795605094497, 50.06634565325093, -64.7...   \n",
       "104         0  [[-110.06777223266891, 111.40287250731032, -45...   \n",
       "...       ...                                                ...   \n",
       "7334        5  [[-406.98242193500886, 140.53084210904234, -11...   \n",
       "7340        5  [[-231.59956389075035, 141.76097554193024, -26...   \n",
       "7346        5  [[-444.72181595159094, 157.9639548791766, 1.19...   \n",
       "7352        5  [[-529.5294425141092, 113.13303392490417, 55.3...   \n",
       "7358        5  [[-505.0763358276477, 182.13265483777104, 45.1...   \n",
       "\n",
       "                 filename  sex  \n",
       "82    1002_DFA_ANG_XX.wav    0  \n",
       "88    1002_IEO_ANG_HI.wav    0  \n",
       "89    1002_IEO_ANG_LO.wav    0  \n",
       "90    1002_IEO_ANG_MD.wav    0  \n",
       "104   1002_IOM_ANG_XX.wav    0  \n",
       "...                   ...  ...  \n",
       "7334  1090_MTI_NEU_XX.wav    1  \n",
       "7340  1090_TAI_NEU_XX.wav    1  \n",
       "7346  1090_TIE_NEU_XX.wav    1  \n",
       "7352  1090_TSI_NEU_XX.wav    1  \n",
       "7358  1090_WSI_NEU_XX.wav    1  \n",
       "\n",
       "[6000 rows x 4 columns]"
      ]
     },
     "execution_count": 18,
     "metadata": {},
     "output_type": "execute_result"
    }
   ],
   "source": [
    "processed_data0=pd.DataFrame(raw_data[raw_data['emotion']==0][:1000])\n",
    "processed_data1=pd.DataFrame(raw_data[raw_data['emotion']==1][:1000])\n",
    "processed_data2=pd.DataFrame(raw_data[raw_data['emotion']==2][:1000])\n",
    "processed_data3=pd.DataFrame(raw_data[raw_data['emotion']==3][:1000])\n",
    "processed_data4=pd.DataFrame(raw_data[raw_data['emotion']==4][:1000])\n",
    "processed_data5=pd.DataFrame(raw_data[raw_data['emotion']==5][:1000])\n",
    "\n",
    "output=pd.concat([processed_data0,processed_data1,processed_data2,processed_data3,processed_data4,processed_data5])\n",
    "output"
   ]
  },
  {
   "cell_type": "code",
   "execution_count": 14,
   "metadata": {},
   "outputs": [],
   "source": [
    "output.to_csv('cleaned_data.csv',index=False,sep='\\t',chunksize=10)"
   ]
  }
 ],
 "metadata": {
  "kernelspec": {
   "display_name": "Python 3",
   "language": "python",
   "name": "python3"
  },
  "language_info": {
   "codemirror_mode": {
    "name": "ipython",
    "version": 3
   },
   "file_extension": ".py",
   "mimetype": "text/x-python",
   "name": "python",
   "nbconvert_exporter": "python",
   "pygments_lexer": "ipython3",
   "version": "3.8.5"
  }
 },
 "nbformat": 4,
 "nbformat_minor": 1
}
