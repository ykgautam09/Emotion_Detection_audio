{
 "cells": [
  {
   "cell_type": "code",
   "execution_count": 1,
   "metadata": {},
   "outputs": [],
   "source": [
    "import numpy as np\n",
    "import pandas as pd\n",
    "from sklearn.model_selection import train_test_split\n",
    "import tensorflow.keras as keras\n",
    "\n",
    "DATA_PATH = './cleaned_data.csv'\n",
    "LEARNING_RATE = 0.0001\n",
    "EPOCHS = 15\n",
    "BATCH_SIZE = 40\n",
    "SAVE_MODEL_PATH = './er_model.h5'\n",
    "OUTPUT_KEYWORD = 6\n"
   ]
  },
  {
   "cell_type": "code",
   "execution_count": 51,
   "metadata": {},
   "outputs": [
    {
     "data": {
      "text/html": [
       "<div>\n",
       "<style scoped>\n",
       "    .dataframe tbody tr th:only-of-type {\n",
       "        vertical-align: middle;\n",
       "    }\n",
       "\n",
       "    .dataframe tbody tr th {\n",
       "        vertical-align: top;\n",
       "    }\n",
       "\n",
       "    .dataframe thead th {\n",
       "        text-align: right;\n",
       "    }\n",
       "</style>\n",
       "<table border=\"1\" class=\"dataframe\">\n",
       "  <thead>\n",
       "    <tr style=\"text-align: right;\">\n",
       "      <th></th>\n",
       "      <th>emotion</th>\n",
       "      <th>mfcc</th>\n",
       "      <th>filename</th>\n",
       "      <th>sex</th>\n",
       "    </tr>\n",
       "  </thead>\n",
       "  <tbody>\n",
       "    <tr>\n",
       "      <th>0</th>\n",
       "      <td>0</td>\n",
       "      <td>[[-192.6655253198013, 157.86518270329742, -43....</td>\n",
       "      <td>1002_DFA_ANG_XX.wav</td>\n",
       "      <td>0</td>\n",
       "    </tr>\n",
       "    <tr>\n",
       "      <th>1</th>\n",
       "      <td>0</td>\n",
       "      <td>[[-451.7827759810083, 104.69157530404351, 2.76...</td>\n",
       "      <td>1002_IEO_ANG_HI.wav</td>\n",
       "      <td>0</td>\n",
       "    </tr>\n",
       "    <tr>\n",
       "      <th>2</th>\n",
       "      <td>0</td>\n",
       "      <td>[[-462.813864470538, 96.37117800785136, 44.085...</td>\n",
       "      <td>1002_IEO_ANG_LO.wav</td>\n",
       "      <td>0</td>\n",
       "    </tr>\n",
       "    <tr>\n",
       "      <th>3</th>\n",
       "      <td>0</td>\n",
       "      <td>[[-218.6795605094497, 50.06634565325093, -64.7...</td>\n",
       "      <td>1002_IEO_ANG_MD.wav</td>\n",
       "      <td>0</td>\n",
       "    </tr>\n",
       "    <tr>\n",
       "      <th>4</th>\n",
       "      <td>0</td>\n",
       "      <td>[[-110.06777223266891, 111.40287250731032, -45...</td>\n",
       "      <td>1002_IOM_ANG_XX.wav</td>\n",
       "      <td>0</td>\n",
       "    </tr>\n",
       "    <tr>\n",
       "      <th>...</th>\n",
       "      <td>...</td>\n",
       "      <td>...</td>\n",
       "      <td>...</td>\n",
       "      <td>...</td>\n",
       "    </tr>\n",
       "    <tr>\n",
       "      <th>5995</th>\n",
       "      <td>5</td>\n",
       "      <td>[[-406.98242193500886, 140.53084210904234, -11...</td>\n",
       "      <td>1090_MTI_NEU_XX.wav</td>\n",
       "      <td>1</td>\n",
       "    </tr>\n",
       "    <tr>\n",
       "      <th>5996</th>\n",
       "      <td>5</td>\n",
       "      <td>[[-231.59956389075035, 141.76097554193024, -26...</td>\n",
       "      <td>1090_TAI_NEU_XX.wav</td>\n",
       "      <td>1</td>\n",
       "    </tr>\n",
       "    <tr>\n",
       "      <th>5997</th>\n",
       "      <td>5</td>\n",
       "      <td>[[-444.72181595159094, 157.9639548791766, 1.19...</td>\n",
       "      <td>1090_TIE_NEU_XX.wav</td>\n",
       "      <td>1</td>\n",
       "    </tr>\n",
       "    <tr>\n",
       "      <th>5998</th>\n",
       "      <td>5</td>\n",
       "      <td>[[-529.5294425141092, 113.13303392490417, 55.3...</td>\n",
       "      <td>1090_TSI_NEU_XX.wav</td>\n",
       "      <td>1</td>\n",
       "    </tr>\n",
       "    <tr>\n",
       "      <th>5999</th>\n",
       "      <td>5</td>\n",
       "      <td>[[-505.0763358276477, 182.13265483777104, 45.1...</td>\n",
       "      <td>1090_WSI_NEU_XX.wav</td>\n",
       "      <td>1</td>\n",
       "    </tr>\n",
       "  </tbody>\n",
       "</table>\n",
       "<p>6000 rows × 4 columns</p>\n",
       "</div>"
      ],
      "text/plain": [
       "      emotion                                               mfcc  \\\n",
       "0           0  [[-192.6655253198013, 157.86518270329742, -43....   \n",
       "1           0  [[-451.7827759810083, 104.69157530404351, 2.76...   \n",
       "2           0  [[-462.813864470538, 96.37117800785136, 44.085...   \n",
       "3           0  [[-218.6795605094497, 50.06634565325093, -64.7...   \n",
       "4           0  [[-110.06777223266891, 111.40287250731032, -45...   \n",
       "...       ...                                                ...   \n",
       "5995        5  [[-406.98242193500886, 140.53084210904234, -11...   \n",
       "5996        5  [[-231.59956389075035, 141.76097554193024, -26...   \n",
       "5997        5  [[-444.72181595159094, 157.9639548791766, 1.19...   \n",
       "5998        5  [[-529.5294425141092, 113.13303392490417, 55.3...   \n",
       "5999        5  [[-505.0763358276477, 182.13265483777104, 45.1...   \n",
       "\n",
       "                 filename  sex  \n",
       "0     1002_DFA_ANG_XX.wav    0  \n",
       "1     1002_IEO_ANG_HI.wav    0  \n",
       "2     1002_IEO_ANG_LO.wav    0  \n",
       "3     1002_IEO_ANG_MD.wav    0  \n",
       "4     1002_IOM_ANG_XX.wav    0  \n",
       "...                   ...  ...  \n",
       "5995  1090_MTI_NEU_XX.wav    1  \n",
       "5996  1090_TAI_NEU_XX.wav    1  \n",
       "5997  1090_TIE_NEU_XX.wav    1  \n",
       "5998  1090_TSI_NEU_XX.wav    1  \n",
       "5999  1090_WSI_NEU_XX.wav    1  \n",
       "\n",
       "[6000 rows x 4 columns]"
      ]
     },
     "execution_count": 51,
     "metadata": {},
     "output_type": "execute_result"
    }
   ],
   "source": [
    "data = pd.read_csv(DATA_PATH, sep='\\t',dtype={'mfcc':'object'})\n",
    "data\n"
   ]
  },
  {
   "cell_type": "code",
   "execution_count": 52,
   "metadata": {
    "scrolled": true
   },
   "outputs": [
    {
     "data": {
      "text/plain": [
       "str"
      ]
     },
     "execution_count": 52,
     "metadata": {},
     "output_type": "execute_result"
    }
   ],
   "source": [
    "type(data['mfcc'][0])"
   ]
  },
  {
   "cell_type": "code",
   "execution_count": null,
   "metadata": {},
   "outputs": [],
   "source": [
    "\n",
    "x = np.array(data['mfcc'].replace(\"'\", ''))\n",
    "y = np.array(data['emotion'])\n",
    "print(x[0])\n",
    "print(len(x), len(y))"
   ]
  },
  {
   "cell_type": "code",
   "execution_count": 53,
   "metadata": {},
   "outputs": [
    {
     "name": "stderr",
     "output_type": "stream",
     "text": [
      "IOPub data rate exceeded.\n",
      "The notebook server will temporarily stop sending output\n",
      "to the client in order to avoid crashing it.\n",
      "To change this limit, set the config variable\n",
      "`--NotebookApp.iopub_data_rate_limit`.\n",
      "\n",
      "Current values:\n",
      "NotebookApp.iopub_data_rate_limit=1000000.0 (bytes/sec)\n",
      "NotebookApp.rate_limit_window=3.0 (secs)\n",
      "\n"
     ]
    }
   ],
   "source": [
    "with open(DATA_PATH,'r') as f:\n",
    "    file=f.readlines()\n",
    "    for i in file:\n",
    "        print(i)"
   ]
  },
  {
   "cell_type": "code",
   "execution_count": null,
   "metadata": {},
   "outputs": [],
   "source": []
  }
 ],
 "metadata": {
  "kernelspec": {
   "display_name": "MLAI",
   "language": "python",
   "name": "mlai"
  },
  "language_info": {
   "codemirror_mode": {
    "name": "ipython",
    "version": 3
   },
   "file_extension": ".py",
   "mimetype": "text/x-python",
   "name": "python",
   "nbconvert_exporter": "python",
   "pygments_lexer": "ipython3",
   "version": "3.8.5"
  }
 },
 "nbformat": 4,
 "nbformat_minor": 4
}
